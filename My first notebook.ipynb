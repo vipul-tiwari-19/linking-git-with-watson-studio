{
    "cells": [
        {
            "cell_type": "markdown",
            "metadata": {},
            "source": "# My Notebook"
        },
        {
            "cell_type": "markdown",
            "metadata": {
                "collapsed": true
            },
            "source": "Hello Everyone....\nThis is Vipul here..."
        },
        {
            "cell_type": "markdown",
            "metadata": {},
            "source": "This is my first jupyter notebook on this cloud platform."
        }
    ],
    "metadata": {
        "kernelspec": {
            "display_name": "Python 3.9",
            "language": "python",
            "name": "python3"
        },
        "language_info": {
            "codemirror_mode": {
                "name": "ipython",
                "version": 3
            },
            "file_extension": ".py",
            "mimetype": "text/x-python",
            "name": "python",
            "nbconvert_exporter": "python",
            "pygments_lexer": "ipython3",
            "version": "3.9.7"
        }
    },
    "nbformat": 4,
    "nbformat_minor": 1
}